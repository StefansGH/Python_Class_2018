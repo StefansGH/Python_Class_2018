{
 "cells": [
  {
   "cell_type": "markdown",
   "metadata": {},
   "source": [
    "# Intermediate Python | Python ReCap"
   ]
  },
  {
   "cell_type": "markdown",
   "metadata": {},
   "source": [
    "**Overview**:<br>\n",
    "\n",
    "In todays lesson, we will shortly recap the basics of python.<br>\n",
    "As codingskill comes with practice, we skip long introductions and start coding with you right away ;)<br>\n",
    "\n",
    "\n",
    "**What we will repeat today:**<br>\n",
    "\n",
    "- data structures (lists, dictionaries)\n",
    "- data structure manipulation\n",
    "- printing\n",
    "- ...\n",
    "\n",
    "**Important Notes**:<br>\n",
    "Take your time and if you are stuck, we are ready to help :)"
   ]
  },
  {
   "cell_type": "markdown",
   "metadata": {},
   "source": [
    "<br>\n",
    "<br>\n",
    "### 1. Task: Lists\n",
    "\n",
    "#### a) Print all entries from the list below one after another :)"
   ]
  },
  {
   "cell_type": "code",
   "execution_count": 23,
   "metadata": {},
   "outputs": [],
   "source": [
    "programming_languages = [\"Python\", \"Java\", \"Haskell\", \"Scala\", \"C#\", \"JavaScript\", \"HTML\", \"Matlab\", \"CSS\", \"Go\"]\n",
    "\n",
    "#your code comes here :)"
   ]
  },
  {
   "cell_type": "markdown",
   "metadata": {},
   "source": [
    "Expected output:\n",
    "\n",
    "```\n",
    "Python\n",
    "Java\n",
    "Haskell\n",
    "Scala\n",
    "C#\n",
    "JavaScript\n",
    "HTML\n",
    "Matlab\n",
    "CSS\n",
    "Go\n",
    "```"
   ]
  },
  {
   "cell_type": "markdown",
   "metadata": {},
   "source": [
    "#### b) We just want the actual programming languages from the list above (HTML and CSS are none). Remove the two elements from the list :) "
   ]
  },
  {
   "cell_type": "code",
   "execution_count": 31,
   "metadata": {},
   "outputs": [],
   "source": [
    "#your code comes here :)\n",
    "\n",
    "print(programming_languages)"
   ]
  },
  {
   "cell_type": "markdown",
   "metadata": {},
   "source": [
    "Expected output:\n",
    "\n",
    "```\n",
    "['Python', 'Java', 'Haskell', 'Scala', 'C#', 'JavaScript', 'Matlab', 'Go']\n",
    "```"
   ]
  },
  {
   "cell_type": "markdown",
   "metadata": {},
   "source": [
    "#### c) COBOL is a very old programming language. Lets add it to our list and print the result. How many items are in the list now?"
   ]
  },
  {
   "cell_type": "code",
   "execution_count": 32,
   "metadata": {},
   "outputs": [],
   "source": [
    "#your code comes here :)"
   ]
  },
  {
   "cell_type": "markdown",
   "metadata": {},
   "source": [
    "Expected output:\n",
    "\n",
    "```\n",
    "['Python', 'Java', 'Haskell', 'Scala', 'C#', 'JavaScript', 'Matlab', 'Go', 'COBOL']\n",
    "9\n",
    "```"
   ]
  },
  {
   "cell_type": "markdown",
   "metadata": {},
   "source": [
    "#### d) Can you reverse the list?"
   ]
  },
  {
   "cell_type": "code",
   "execution_count": 8,
   "metadata": {},
   "outputs": [],
   "source": [
    "#your code comes here :)"
   ]
  },
  {
   "cell_type": "markdown",
   "metadata": {},
   "source": [
    "Expected output:\n",
    "\n",
    "```\n",
    "['COBOL', 'Go', 'Matlab', 'JavaScript', 'C#', 'Scala', 'Haskell', 'Java', 'Python']\n",
    "```"
   ]
  },
  {
   "cell_type": "markdown",
   "metadata": {},
   "source": [
    "#### BONUS: There is a new list that stores some languages multiple times. Can you write a function that takes a list and stores the unique entries only in a new list? "
   ]
  },
  {
   "cell_type": "code",
   "execution_count": null,
   "metadata": {},
   "outputs": [],
   "source": [
    "programming_languages2 = ['COBOL','Scala', 'Scala', 'Python', 'Go', 'Matlab', 'Python', 'JavaScript','Go', 'C#','Python', 'Scala', 'Haskell', 'Java', 'Python']\n",
    "\n",
    "def unique_values(liste):\n",
    "    #your code comes here"
   ]
  },
  {
   "cell_type": "markdown",
   "metadata": {},
   "source": [
    "Expected output:\n",
    "\n",
    "```\n",
    "['COBOL', 'Scala', 'Python', 'Go', 'Matlab', 'JavaScript', 'C#', 'Haskell', 'Java']\n",
    "```"
   ]
  },
  {
   "cell_type": "markdown",
   "metadata": {},
   "source": [
    "<br>\n",
    "<br>\n",
    "### 2. Task: Dictionaries\n",
    "\n",
    "#### a) ..."
   ]
  },
  {
   "cell_type": "code",
   "execution_count": null,
   "metadata": {},
   "outputs": [],
   "source": []
  }
 ],
 "metadata": {
  "kernelspec": {
   "display_name": "Python 3",
   "language": "python",
   "name": "python3"
  },
  "language_info": {
   "codemirror_mode": {
    "name": "ipython",
    "version": 3
   },
   "file_extension": ".py",
   "mimetype": "text/x-python",
   "name": "python",
   "nbconvert_exporter": "python",
   "pygments_lexer": "ipython3",
   "version": "3.6.4"
  }
 },
 "nbformat": 4,
 "nbformat_minor": 2
}
